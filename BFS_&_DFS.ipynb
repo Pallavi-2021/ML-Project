{
  "nbformat": 4,
  "nbformat_minor": 0,
  "metadata": {
    "colab": {
      "provenance": []
    },
    "kernelspec": {
      "name": "python3",
      "display_name": "Python 3"
    },
    "language_info": {
      "name": "python"
    }
  },
  "cells": [
    {
      "cell_type": "code",
      "execution_count": null,
      "metadata": {
        "colab": {
          "base_uri": "https://localhost:8080/"
        },
        "id": "PVWsG7hjd-jv",
        "outputId": "cfa8b4bf-23a5-4a6a-9de0-833e7ea42b99"
      },
      "outputs": [
        {
          "output_type": "stream",
          "name": "stdout",
          "text": [
            "Starting DFS from node A:\n",
            "Visited: A\n",
            "Visited: B\n",
            "Visited: D\n",
            "Visited: E\n",
            "Visited: F\n",
            "Visited: C\n"
          ]
        }
      ],
      "source": [
        "#Depth First Search\n",
        "def dfs(graph, node, visited):\n",
        "    if node not in visited:\n",
        "        visited.add(node)\n",
        "        print(f\"Visited: {node}\")\n",
        "        for neighbor in graph[node]:\n",
        "            dfs(graph, neighbor, visited)\n",
        "graph = {\n",
        "    'A': ['B', 'C'],\n",
        "    'B': ['A', 'D', 'E'],\n",
        "    'C': ['A', 'F'],\n",
        "    'D': ['B'],\n",
        "    'E': ['B', 'F'],\n",
        "    'F': ['C', 'E']\n",
        "}\n",
        "visited = set()\n",
        "start_node = 'A'\n",
        "print(f\"Starting DFS from node {start_node}:\")\n",
        "dfs(graph, start_node, visited)"
      ]
    },
    {
      "cell_type": "code",
      "source": [
        "#Breadth First Search\n",
        "from collections import deque\n",
        "def bfs(graph, start_node):\n",
        "    visited = set()\n",
        "    queue = deque([start_node])\n",
        "\n",
        "    while queue:\n",
        "        node = queue.popleft()\n",
        "        if node not in visited:\n",
        "            print(f\"Visited: {node}\")\n",
        "            visited.add(node)\n",
        "            queue.extend(neighbor for neighbor in graph[node] if neighbor not in visited)\n",
        "graph = {\n",
        "    'A': ['B', 'C'],\n",
        "    'B': ['A', 'D', 'E'],\n",
        "    'C': ['A', 'F'],\n",
        "    'D': ['B'],\n",
        "    'E': ['B', 'F'],\n",
        "    'F': ['C', 'E']\n",
        "}\n",
        "\n",
        "start_node = 'A'\n",
        "print(f\"Starting BFS from node {start_node}:\")\n",
        "bfs(graph, start_node)\n"
      ],
      "metadata": {
        "colab": {
          "base_uri": "https://localhost:8080/"
        },
        "id": "7GQucUQ4eH3E",
        "outputId": "a95703a5-71b8-4632-dbbd-777b1c9530b6"
      },
      "execution_count": null,
      "outputs": [
        {
          "output_type": "stream",
          "name": "stdout",
          "text": [
            "Starting BFS from node A:\n",
            "Visited: A\n",
            "Visited: B\n",
            "Visited: C\n",
            "Visited: D\n",
            "Visited: E\n",
            "Visited: F\n"
          ]
        }
      ]
    }
  ]
}