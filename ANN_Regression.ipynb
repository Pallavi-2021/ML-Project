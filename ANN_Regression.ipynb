{
  "nbformat": 4,
  "nbformat_minor": 0,
  "metadata": {
    "colab": {
      "provenance": []
    },
    "kernelspec": {
      "name": "python3",
      "display_name": "Python 3"
    },
    "language_info": {
      "name": "python"
    }
  },
  "cells": [
    {
      "cell_type": "code",
      "execution_count": null,
      "metadata": {
        "id": "PkGaqFqu56km"
      },
      "outputs": [],
      "source": [
        "import math\n",
        "import pandas as pd\n",
        "import tensorflow as tf\n",
        "import matplotlib.pyplot as plt\n",
        "from tensorflow.keras import Model\n",
        "from tensorflow.keras import Sequential\n",
        "from tensorflow.keras.optimizers import Adam\n",
        "from sklearn.preprocessing import StandardScaler\n",
        "from tensorflow.keras.layers import Dense, Dropout\n",
        "from sklearn.model_selection import train_test_split\n",
        "from tensorflow.keras.losses import MeanSquaredLogarithmicError\n",
        "TRAIN_DATA_PATH = '/content/sample_data/california_housing_train.csv'\n",
        "TEST_DATA_PATH = '/content/sample_data/california_housing_test.csv'\n",
        "TARGET_NAME = 'median_house_value'"
      ]
    },
    {
      "cell_type": "code",
      "source": [
        "#x_train = features, y_train = target\n",
        "train_data = pd.read_csv(TRAIN_DATA_PATH)\n",
        "test_data = pd.read_csv(TEST_DATA_PATH)\n",
        "x_train, y_train = train_data.drop(TARGET_NAME, axis=1), train_data[TARGET_NAME]\n",
        "x_test, y_test = test_data.drop(TARGET_NAME, axis=1), test_data[TARGET_NAME]"
      ],
      "metadata": {
        "id": "ZlYnymBNHfsM"
      },
      "execution_count": null,
      "outputs": []
    },
    {
      "cell_type": "code",
      "source": [
        "print(x_train)\n",
        "print(x_test)"
      ],
      "metadata": {
        "colab": {
          "base_uri": "https://localhost:8080/"
        },
        "id": "gNT7xicLHofK",
        "outputId": "ecc4b75a-766b-4aa0-cf9a-b4c17e91e556"
      },
      "execution_count": null,
      "outputs": [
        {
          "output_type": "stream",
          "name": "stdout",
          "text": [
            "       longitude  latitude  housing_median_age  total_rooms  total_bedrooms  \\\n",
            "0        -114.31     34.19                15.0       5612.0          1283.0   \n",
            "1        -114.47     34.40                19.0       7650.0          1901.0   \n",
            "2        -114.56     33.69                17.0        720.0           174.0   \n",
            "3        -114.57     33.64                14.0       1501.0           337.0   \n",
            "4        -114.57     33.57                20.0       1454.0           326.0   \n",
            "...          ...       ...                 ...          ...             ...   \n",
            "16995    -124.26     40.58                52.0       2217.0           394.0   \n",
            "16996    -124.27     40.69                36.0       2349.0           528.0   \n",
            "16997    -124.30     41.84                17.0       2677.0           531.0   \n",
            "16998    -124.30     41.80                19.0       2672.0           552.0   \n",
            "16999    -124.35     40.54                52.0       1820.0           300.0   \n",
            "\n",
            "       population  households  median_income  \n",
            "0          1015.0       472.0         1.4936  \n",
            "1          1129.0       463.0         1.8200  \n",
            "2           333.0       117.0         1.6509  \n",
            "3           515.0       226.0         3.1917  \n",
            "4           624.0       262.0         1.9250  \n",
            "...           ...         ...            ...  \n",
            "16995       907.0       369.0         2.3571  \n",
            "16996      1194.0       465.0         2.5179  \n",
            "16997      1244.0       456.0         3.0313  \n",
            "16998      1298.0       478.0         1.9797  \n",
            "16999       806.0       270.0         3.0147  \n",
            "\n",
            "[17000 rows x 8 columns]\n",
            "      longitude  latitude  housing_median_age  total_rooms  total_bedrooms  \\\n",
            "0       -122.05     37.37                27.0       3885.0           661.0   \n",
            "1       -118.30     34.26                43.0       1510.0           310.0   \n",
            "2       -117.81     33.78                27.0       3589.0           507.0   \n",
            "3       -118.36     33.82                28.0         67.0            15.0   \n",
            "4       -119.67     36.33                19.0       1241.0           244.0   \n",
            "...         ...       ...                 ...          ...             ...   \n",
            "2995    -119.86     34.42                23.0       1450.0           642.0   \n",
            "2996    -118.14     34.06                27.0       5257.0          1082.0   \n",
            "2997    -119.70     36.30                10.0        956.0           201.0   \n",
            "2998    -117.12     34.10                40.0         96.0            14.0   \n",
            "2999    -119.63     34.42                42.0       1765.0           263.0   \n",
            "\n",
            "      population  households  median_income  \n",
            "0         1537.0       606.0         6.6085  \n",
            "1          809.0       277.0         3.5990  \n",
            "2         1484.0       495.0         5.7934  \n",
            "3           49.0        11.0         6.1359  \n",
            "4          850.0       237.0         2.9375  \n",
            "...          ...         ...            ...  \n",
            "2995      1258.0       607.0         1.1790  \n",
            "2996      3496.0      1036.0         3.3906  \n",
            "2997       693.0       220.0         2.2895  \n",
            "2998        46.0        14.0         3.2708  \n",
            "2999       753.0       260.0         8.5608  \n",
            "\n",
            "[3000 rows x 8 columns]\n"
          ]
        }
      ]
    },
    {
      "cell_type": "code",
      "source": [
        "def scale_datasets(x_train, x_test):\n",
        "\n",
        "  standard_scaler = StandardScaler()\n",
        "  x_train_scaled = pd.DataFrame(\n",
        "      standard_scaler.fit_transform(x_train),\n",
        "      columns=x_train.columns\n",
        "  )\n",
        "  x_test_scaled = pd.DataFrame(\n",
        "      standard_scaler.transform(x_test),\n",
        "      columns = x_test.columns\n",
        "  )\n",
        "  return x_train_scaled, x_test_scaled\n",
        "x_train_scaled, x_test_scaled = scale_datasets(x_train, x_test)"
      ],
      "metadata": {
        "id": "w8wlBH5AH31T"
      },
      "execution_count": null,
      "outputs": []
    },
    {
      "cell_type": "code",
      "source": [
        "hidden_units1 = 160\n",
        "hidden_units2 = 480\n",
        "hidden_units3 = 256\n",
        "learning_rate = 0.01\n",
        "# Creating model using the Sequential in tensorflow\n",
        "def build_model_using_sequential():\n",
        "  model = Sequential([\n",
        "    Dense(hidden_units1, kernel_initializer='normal', activation='relu'),\n",
        "    Dropout(0.2),\n",
        "    Dense(hidden_units2, kernel_initializer='normal', activation='relu'),\n",
        "    Dropout(0.2),\n",
        "    Dense(hidden_units3, kernel_initializer='normal', activation='relu'),\n",
        "    Dense(1, kernel_initializer='normal', activation='linear')\n",
        "  ])\n",
        "  return model\n",
        "# build the model\n",
        "model = build_model_using_sequential()\n",
        "print(model)\n",
        "\n",
        "# Compile the model\n",
        "model.compile(loss=MeanSquaredLogarithmicError(), optimizer=Adam(), metrics=[MeanSquaredLogarithmicError()])\n",
        "\n",
        "# Train the model\n",
        "history=model.fit(X_train_scaled, y_train, epochs=10, batch_size=64, validation_split=0.2)\n"
      ],
      "metadata": {
        "colab": {
          "base_uri": "https://localhost:8080/"
        },
        "id": "XpLqs2Z9IDcT",
        "outputId": "f75be555-106d-4459-fa83-b1bce96233e7"
      },
      "execution_count": null,
      "outputs": [
        {
          "output_type": "stream",
          "name": "stdout",
          "text": [
            "<keras.src.engine.sequential.Sequential object at 0x7821451ef190>\n",
            "Epoch 1/10\n",
            "170/170 [==============================] - 3s 10ms/step - loss: 45.3324 - mean_squared_logarithmic_error: 45.3324 - val_loss: 17.0553 - val_mean_squared_logarithmic_error: 17.0485\n",
            "Epoch 2/10\n",
            "170/170 [==============================] - 1s 7ms/step - loss: 11.1522 - mean_squared_logarithmic_error: 11.1522 - val_loss: 7.1287 - val_mean_squared_logarithmic_error: 7.1237\n",
            "Epoch 3/10\n",
            "170/170 [==============================] - 1s 7ms/step - loss: 5.1392 - mean_squared_logarithmic_error: 5.1392 - val_loss: 3.6131 - val_mean_squared_logarithmic_error: 3.6092\n",
            "Epoch 4/10\n",
            "170/170 [==============================] - 1s 7ms/step - loss: 2.7468 - mean_squared_logarithmic_error: 2.7468 - val_loss: 2.0293 - val_mean_squared_logarithmic_error: 2.0262\n",
            "Epoch 5/10\n",
            "170/170 [==============================] - 1s 7ms/step - loss: 1.6050 - mean_squared_logarithmic_error: 1.6050 - val_loss: 1.2356 - val_mean_squared_logarithmic_error: 1.2330\n",
            "Epoch 6/10\n",
            "170/170 [==============================] - 1s 8ms/step - loss: 1.0194 - mean_squared_logarithmic_error: 1.0194 - val_loss: 0.8125 - val_mean_squared_logarithmic_error: 0.8104\n",
            "Epoch 7/10\n",
            "170/170 [==============================] - 1s 7ms/step - loss: 0.6974 - mean_squared_logarithmic_error: 0.6974 - val_loss: 0.5828 - val_mean_squared_logarithmic_error: 0.5809\n",
            "Epoch 8/10\n",
            "170/170 [==============================] - 1s 7ms/step - loss: 0.5263 - mean_squared_logarithmic_error: 0.5263 - val_loss: 0.4559 - val_mean_squared_logarithmic_error: 0.4542\n",
            "Epoch 9/10\n",
            "170/170 [==============================] - 2s 12ms/step - loss: 0.4308 - mean_squared_logarithmic_error: 0.4308 - val_loss: 0.3854 - val_mean_squared_logarithmic_error: 0.3839\n",
            "Epoch 10/10\n",
            "170/170 [==============================] - 2s 10ms/step - loss: 0.3757 - mean_squared_logarithmic_error: 0.3757 - val_loss: 0.3433 - val_mean_squared_logarithmic_error: 0.3419\n"
          ]
        }
      ]
    },
    {
      "cell_type": "code",
      "source": [
        "def plot_history(history, key):\n",
        "  plt.plot(history.history[key])\n",
        "  plt.plot(history.history['val_'+key])\n",
        "  plt.xlabel(\"Epochs\")\n",
        "  plt.ylabel(key)\n",
        "  plt.legend([key, 'val_'+key])\n",
        "  plt.show()\n",
        "\n",
        "# Plot the history\n",
        "plot_history(history, 'mean_squared_logarithmic_error')"
      ],
      "metadata": {
        "colab": {
          "base_uri": "https://localhost:8080/",
          "height": 449
        },
        "id": "YMuD_wK6LzPC",
        "outputId": "0a20593c-b062-4bec-af0d-20cdfd37ec22"
      },
      "execution_count": null,
      "outputs": [
        {
          "output_type": "display_data",
          "data": {
            "text/plain": [
              "<Figure size 640x480 with 1 Axes>"
            ],
            "image/png": "[encoded data removed]"
          },
          "metadata": {}
        }
      ]
    },
    {
      "cell_type": "code",
      "source": [
        "x_test['prediction'] = model.predict(x_test_scaled)\n",
        "print(x_test)"
      ],
      "metadata": {
        "colab": {
          "base_uri": "https://localhost:8080/"
        },
        "id": "5tOXkt5pMNaD",
        "outputId": "7d2cdc76-606a-4f7c-a8f0-f6824d86ed0c"
      },
      "execution_count": null,
      "outputs": [
        {
          "output_type": "stream",
          "name": "stdout",
          "text": [
            "94/94 [==============================] - 0s 2ms/step\n",
            "      longitude  latitude  housing_median_age  total_rooms  total_bedrooms  \\\n",
            "0       -122.05     37.37                27.0       3885.0           661.0   \n",
            "1       -118.30     34.26                43.0       1510.0           310.0   \n",
            "2       -117.81     33.78                27.0       3589.0           507.0   \n",
            "3       -118.36     33.82                28.0         67.0            15.0   \n",
            "4       -119.67     36.33                19.0       1241.0           244.0   \n",
            "...         ...       ...                 ...          ...             ...   \n",
            "2995    -119.86     34.42                23.0       1450.0           642.0   \n",
            "2996    -118.14     34.06                27.0       5257.0          1082.0   \n",
            "2997    -119.70     36.30                10.0        956.0           201.0   \n",
            "2998    -117.12     34.10                40.0         96.0            14.0   \n",
            "2999    -119.63     34.42                42.0       1765.0           263.0   \n",
            "\n",
            "      population  households  median_income     prediction  \n",
            "0         1537.0       606.0         6.6085  144055.593750  \n",
            "1          809.0       277.0         3.5990  165371.343750  \n",
            "2         1484.0       495.0         5.7934  150625.875000  \n",
            "3           49.0        11.0         6.1359  264941.937500  \n",
            "4          850.0       237.0         2.9375  112379.304688  \n",
            "...          ...         ...            ...            ...  \n",
            "2995      1258.0       607.0         1.1790   57208.109375  \n",
            "2996      3496.0      1036.0         3.3906  197125.125000  \n",
            "2997       693.0       220.0         2.2895  105488.726562  \n",
            "2998        46.0        14.0         3.2708  251464.765625  \n",
            "2999       753.0       260.0         8.5608  242087.031250  \n",
            "\n",
            "[3000 rows x 9 columns]\n"
          ]
        }
      ]
    },
    {
      "cell_type": "code",
      "source": [
        "import numpy as np\n",
        "import tensorflow as tf\n",
        "from tensorflow.keras.models import Sequential\n",
        "from tensorflow.keras.layers import Dense\n",
        "\n",
        "# Generate some random data for demonstration purposes\n",
        "np.random.seed(0)\n",
        "X = np.random.rand(100, 2)\n",
        "y = np.random.randint(0, 2, 100)\n",
        "\n",
        "# Build the model\n",
        "model = Sequential()\n",
        "model.add(Dense(4, input_dim=2, activation='relu'))\n",
        "model.add(Dense(4, activation='relu'))\n",
        "model.add(Dense(1, activation='sigmoid'))\n",
        "\n",
        "# Compile the model\n",
        "model.compile(loss='binary_crossentropy', optimizer='adam', metrics=['accuracy'])\n",
        "\n",
        "# Train the model\n",
        "model.fit(X, y, epochs=10, batch_size=10)\n",
        "\n",
        "# Predict on some new data\n",
        "new_data = np.random.rand(5, 2)\n",
        "predictions = model.predict(new_data)\n",
        "print(predictions)"
      ],
      "metadata": {
        "colab": {
          "base_uri": "https://localhost:8080/"
        },
        "id": "yj2SumBTc8e8",
        "outputId": "ed86f193-33de-4de1-90a5-b5fb81bf6a9f"
      },
      "execution_count": null,
      "outputs": [
        {
          "output_type": "stream",
          "name": "stdout",
          "text": [
            "Epoch 1/10\n",
            "10/10 [==============================] - 2s 7ms/step - loss: 0.6932 - accuracy: 0.5000\n",
            "Epoch 2/10\n",
            "10/10 [==============================] - 0s 4ms/step - loss: 0.6932 - accuracy: 0.5000\n",
            "Epoch 3/10\n",
            "10/10 [==============================] - 0s 4ms/step - loss: 0.6931 - accuracy: 0.5000\n",
            "Epoch 4/10\n",
            "10/10 [==============================] - 0s 3ms/step - loss: 0.6932 - accuracy: 0.5000\n",
            "Epoch 5/10\n",
            "10/10 [==============================] - 0s 4ms/step - loss: 0.6931 - accuracy: 0.5000\n",
            "Epoch 6/10\n",
            "10/10 [==============================] - 0s 5ms/step - loss: 0.6931 - accuracy: 0.5100\n",
            "Epoch 7/10\n",
            "10/10 [==============================] - 0s 4ms/step - loss: 0.6931 - accuracy: 0.5100\n",
            "Epoch 8/10\n",
            "10/10 [==============================] - 0s 4ms/step - loss: 0.6931 - accuracy: 0.5100\n",
            "Epoch 9/10\n",
            "10/10 [==============================] - 0s 4ms/step - loss: 0.6932 - accuracy: 0.5000\n",
            "Epoch 10/10\n",
            "10/10 [==============================] - 0s 4ms/step - loss: 0.6931 - accuracy: 0.5100\n",
            "1/1 [==============================] - 0s 112ms/step\n",
            "[[0.4995673]\n",
            " [0.4995673]\n",
            " [0.4995673]\n",
            " [0.4995673]\n",
            " [0.4995673]]\n"
          ]
        }
      ]
    }
  ]
}