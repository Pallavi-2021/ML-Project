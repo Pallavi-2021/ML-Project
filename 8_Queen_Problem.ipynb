{
  "nbformat": 4,
  "nbformat_minor": 0,
  "metadata": {
    "colab": {
      "provenance": []
    },
    "kernelspec": {
      "name": "python3",
      "display_name": "Python 3"
    },
    "language_info": {
      "name": "python"
    }
  },
  "cells": [
    {
      "cell_type": "code",
      "execution_count": null,
      "metadata": {
        "colab": {
          "base_uri": "https://localhost:8080/"
        },
        "id": "vnPtoHgNhOJN",
        "outputId": "c61a0860-9991-4e44-bf45-128d35813671"
      },
      "outputs": [
        {
          "output_type": "stream",
          "name": "stdout",
          "text": [
            "Enter the number of queens:\n",
            "8\n",
            "[1, 0, 0, 0, 0, 0, 0, 0]\n",
            "[0, 0, 0, 0, 1, 0, 0, 0]\n",
            "[0, 0, 0, 0, 0, 0, 0, 1]\n",
            "[0, 0, 0, 0, 0, 1, 0, 0]\n",
            "[0, 0, 1, 0, 0, 0, 0, 0]\n",
            "[0, 0, 0, 0, 0, 0, 1, 0]\n",
            "[0, 1, 0, 0, 0, 0, 0, 0]\n",
            "[0, 0, 0, 1, 0, 0, 0, 0]\n"
          ]
        }
      ],
      "source": [
        "#8 Queen Problem\n",
        "print(\"Enter the number of queens:\")\n",
        "N=int(input())\n",
        "board=[[0]*N for _ in range(N)]\n",
        "\n",
        "def is_attack(i,j):\n",
        "\n",
        "  for k in range(0,N):\n",
        "    if board[i][k]==1 or board[k][j]==1:\n",
        "      return True\n",
        "\n",
        "  for k in range(0,N):\n",
        "    for l in range(0,N):\n",
        "      if (k+l==i+j) or (k-l==i-j):\n",
        "        if board[k][l]==1:\n",
        "          return True\n",
        "  return False\n",
        "\n",
        "def N_queens(n):\n",
        "  if n==0:\n",
        "    return True\n",
        "  for i in range(0,N):\n",
        "      for j in range(0,N):\n",
        "        if(not(is_attack(i,j))) and (board[i][j]!=1):\n",
        "          board[i][j]=1\n",
        "          if N_queens(n-1)==True:\n",
        "            return True\n",
        "          board[i][j]=0\n",
        "  return False\n",
        "\n",
        "N_queens(N)\n",
        "for i in board:\n",
        "  print(i)\n",
        "\n"
      ]
    },
    {
      "cell_type": "code",
      "source": [],
      "metadata": {
        "id": "eChEYokw0w4q"
      },
      "execution_count": null,
      "outputs": []
    },
    {
      "cell_type": "code",
      "source": [],
      "metadata": {
        "id": "dkmMfpV5wtpA"
      },
      "execution_count": null,
      "outputs": []
    }
  ]
}